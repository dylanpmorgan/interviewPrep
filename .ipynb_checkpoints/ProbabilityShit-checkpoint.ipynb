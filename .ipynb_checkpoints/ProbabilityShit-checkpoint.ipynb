{
 "cells": [
  {
   "cell_type": "markdown",
   "metadata": {},
   "source": [
    "# Monte carlo sims practice"
   ]
  },
  {
   "cell_type": "code",
   "execution_count": 2,
   "metadata": {
    "collapsed": true
   },
   "outputs": [],
   "source": [
    "import numpy as np\n",
    "import matplotlib.pyplot as plt\n",
    "import random\n",
    "%matplotlib inline"
   ]
  },
  {
   "cell_type": "markdown",
   "metadata": {},
   "source": [
    "## Probability of coin flip"
   ]
  },
  {
   "cell_type": "code",
   "execution_count": 6,
   "metadata": {
    "collapsed": false
   },
   "outputs": [
    {
     "name": "stdout",
     "output_type": "stream",
     "text": [
      "0.50063\n",
      "0.4999996031\n"
     ]
    }
   ],
   "source": [
    "np.random.seed(42)\n",
    "result = np.random.randint(2, size=100000)\n",
    "print result.mean()\n",
    "print result.std()"
   ]
  },
  {
   "cell_type": "code",
   "execution_count": 44,
   "metadata": {
    "collapsed": false
   },
   "outputs": [
    {
     "data": {
      "image/png": "[encoded data removed]",
      "text/plain": [
       "<matplotlib.figure.Figure at 0x10f81ef90>"
      ]
     },
     "metadata": {},
     "output_type": "display_data"
    }
   ],
   "source": [
    "result_mean = []\n",
    "test_array = [10, 100, 1000, 10**5, 10**6]\n",
    "np.random.seed(42)\n",
    "for i in test_array:\n",
    "    result = np.random.randint(2, size=i)\n",
    "    result_mean.append(np.mean(result))\n",
    "plt.plot(test_array, result_mean)\n",
    "plt.xscale('log')"
   ]
  },
  {
   "cell_type": "markdown",
   "metadata": {},
   "source": [
    "## Probabilty questions (Peter Komar)"
   ]
  },
  {
   "cell_type": "markdown",
   "metadata": {},
   "source": [
    "#### The probability for rain on Saturday and Sunday are 50 % and 20 % respectively. Any rain will be light with 90% and heavy with 10% on saturday. Any rain on sunday will be light.\n",
    "What is the probability of light rain on both days"
   ]
  },
  {
   "cell_type": "code",
   "execution_count": null,
   "metadata": {
    "collapsed": true
   },
   "outputs": [],
   "source": [
    "probRainSaturday = 0.5\n",
    "probRainSunday = 0.2\n",
    "probLightRainSaturday = 0.9\n",
    "probLightRainSunday = 1\n",
    "probHeavyRainSaturday = 0.1\n",
    "probHeavyRainSunday = 0\n",
    "\n"
   ]
  },
  {
   "cell_type": "markdown",
   "metadata": {},
   "source": [
    "Q3 .In a simple game, we flip a coin 3-times. The reward we get depends on the outcome in the following way: 3 heads -> win $100, 2 heads -> win 40, 1head -> nothing, 0 heads -> lose 200"
   ]
  },
  {
   "cell_type": "code",
   "execution_count": 32,
   "metadata": {
    "collapsed": false
   },
   "outputs": [
    {
     "name": "stdout",
     "output_type": "stream",
     "text": [
      "expectation value is 2.434\n",
      "standard deviation is 82.6948344457\n"
     ]
    }
   ],
   "source": [
    "result_raw = np.random.randint(2, size=(3,10000))\n",
    "result = result_raw.sum(axis=0)\n",
    "result[result == 3] = 100\n",
    "result[result == 2] = 40\n",
    "result[result == 0] = -200\n",
    "result[result == 1] = 0\n",
    "\n",
    "print 'expectation value is '+ str(np.mean(result))\n",
    "print 'standard deviation is '+ str(np.std(result))"
   ]
  },
  {
   "cell_type": "code",
   "execution_count": 28,
   "metadata": {
    "collapsed": false
   },
   "outputs": [
    {
     "data": {
      "text/plain": [
       "(0.0, 0.125)"
      ]
     },
     "execution_count": 28,
     "metadata": {},
     "output_type": "execute_result"
    }
   ],
   "source": [
    "len(result[result == 100])*1.0/len(result), 1.0/8\n",
    "len(result[result == 40])*1.0/len(result), 3.0/8\n",
    "len(result[result == 0])*1.0/len(result), 1.0/8"
   ]
  },
  {
   "cell_type": "code",
   "execution_count": 23,
   "metadata": {
    "collapsed": false
   },
   "outputs": [
    {
     "data": {
      "text/plain": [
       "array([1, 2, 2, ..., 2, 2, 1])"
      ]
     },
     "execution_count": 23,
     "metadata": {},
     "output_type": "execute_result"
    }
   ],
   "source": [
    "result_raw.sum(axis=0)"
   ]
  },
  {
   "cell_type": "code",
   "execution_count": 18,
   "metadata": {
    "collapsed": false
   },
   "outputs": [
    {
     "data": {
      "text/plain": [
       "array([  40, -200,   40, ...,   40,   40,  100])"
      ]
     },
     "execution_count": 18,
     "metadata": {},
     "output_type": "execute_result"
    }
   ],
   "source": [
    "result"
   ]
  },
  {
   "cell_type": "markdown",
   "metadata": {},
   "source": [
    "## How many possible ways are there to draw US coins that sum up to 50 cents?"
   ]
  },
  {
   "cell_type": "code",
   "execution_count": 107,
   "metadata": {
    "collapsed": false
   },
   "outputs": [
    {
     "data": {
      "text/plain": [
       "1931845"
      ]
     },
     "execution_count": 107,
     "metadata": {},
     "output_type": "execute_result"
    }
   ],
   "source": [
    "coins = [1, 5, 10, 25, 100]\n",
    "def count(n):\n",
    "    if n < 0:\n",
    "        return 0\n",
    "    if n == 0:\n",
    "        return 1\n",
    "    return sum(count(n-coin) for coin in coins)\n",
    "count(50)   "
   ]
  },
  {
   "cell_type": "markdown",
   "metadata": {},
   "source": [
    "## Work first with fibonacci numbers:"
   ]
  },
  {
   "cell_type": "code",
   "execution_count": 105,
   "metadata": {
    "collapsed": false
   },
   "outputs": [
    {
     "data": {
      "text/plain": [
       "377"
      ]
     },
     "execution_count": 105,
     "metadata": {},
     "output_type": "execute_result"
    }
   ],
   "source": [
    "def fib(n):\n",
    "    if n<=2:\n",
    "        return 1\n",
    "    else:\n",
    "        return fib(n-1)+fib(n-2)\n",
    "fib(4)\n",
    "\n",
    "# memoized\n",
    "memo = {}\n",
    "def fibMemoized(n):\n",
    "    if n in memo:\n",
    "        return memo[n]\n",
    "    elif n <= 2:\n",
    "        return 1\n",
    "    else:\n",
    "        memo[n] = fibMemoized(n-1)+ fibMemoized(n-2)\n",
    "        return memo[n]\n",
    "fibMemoized(4)\n",
    "\n",
    "# use decorators\n",
    "def memoize(func):\n",
    "    memo1 = {}\n",
    "    def decorated_function(*args):\n",
    "        if args in memo1:\n",
    "            return memo1[args]\n",
    "        else:\n",
    "            memo1[args] = func(*args)\n",
    "            return memo1[args]\n",
    "    return decorated_function\n",
    "\n",
    "@memoize\n",
    "def fib1(n):\n",
    "    if n<=2:\n",
    "        return 1\n",
    "    else:\n",
    "        return fib1(n-1)+fib1(n-2)\n",
    "fib1(14)    \n"
   ]
  },
  {
   "cell_type": "markdown",
   "metadata": {},
   "source": [
    "## What is smallest number of change for 50 c? (shortest path- dynamic programming)\n",
    "\n",
    "dynamic programming is careful brute force search"
   ]
  },
  {
   "cell_type": "code",
   "execution_count": null,
   "metadata": {
    "collapsed": true
   },
   "outputs": [],
   "source": [
    "coins = [1,5,10,25]\n",
    "\n",
    "def smallestChange(n):\n",
    "    if n < 0: \n",
    "        return []\n",
    "    return [smallestChange(n-coin) for coin in coins]\n",
    "\n",
    "    "
   ]
  },
  {
   "cell_type": "code",
   "execution_count": 108,
   "metadata": {
    "collapsed": false
   },
   "outputs": [
    {
     "name": "stdout",
     "output_type": "stream",
     "text": [
      "1 cents requires 1 coins: [1]\n",
      "2 cents requires 2 coins: [1, 1]\n",
      "3 cents requires 3 coins: [1, 1, 1]\n",
      "4 cents requires 4 coins: [1, 1, 1, 1]\n",
      "5 cents requires 1 coins: [5]\n",
      "6 cents requires 2 coins: [1, 5]\n",
      "7 cents requires 3 coins: [1, 1, 5]\n",
      "8 cents requires 4 coins: [1, 1, 1, 5]\n",
      "9 cents requires 5 coins: [1, 1, 1, 1, 5]\n",
      "10 cents requires 1 coins: [10]\n",
      "11 cents requires 2 coins: [1, 10]\n",
      "12 cents requires 3 coins: [1, 1, 10]\n",
      "13 cents requires 4 coins: [1, 1, 1, 10]\n",
      "14 cents requires 5 coins: [1, 1, 1, 1, 10]\n",
      "15 cents requires 2 coins: [5, 10]\n",
      "16 cents requires 3 coins: [1, 5, 10]\n",
      "17 cents requires 4 coins: [1, 1, 5, 10]\n",
      "18 cents requires 5 coins: [1, 1, 1, 5, 10]\n",
      "19 cents requires 6 coins: [1, 1, 1, 1, 5, 10]\n",
      "20 cents requires 2 coins: [10, 10]\n",
      "21 cents requires 3 coins: [1, 10, 10]\n",
      "22 cents requires 4 coins: [1, 1, 10, 10]\n",
      "23 cents requires 5 coins: [1, 1, 1, 10, 10]\n",
      "24 cents requires 6 coins: [1, 1, 1, 1, 10, 10]\n",
      "25 cents requires 1 coins: [25]\n",
      "26 cents requires 2 coins: [1, 25]\n",
      "27 cents requires 3 coins: [1, 1, 25]\n",
      "28 cents requires 4 coins: [1, 1, 1, 25]\n",
      "29 cents requires 5 coins: [1, 1, 1, 1, 25]\n",
      "30 cents requires 2 coins: [5, 25]\n",
      "31 cents requires 3 coins: [1, 5, 25]\n",
      "32 cents requires 4 coins: [1, 1, 5, 25]\n",
      "33 cents requires 5 coins: [1, 1, 1, 5, 25]\n",
      "34 cents requires 6 coins: [1, 1, 1, 1, 5, 25]\n",
      "35 cents requires 2 coins: [10, 25]\n",
      "36 cents requires 3 coins: [1, 10, 25]\n",
      "37 cents requires 4 coins: [1, 1, 10, 25]\n",
      "38 cents requires 5 coins: [1, 1, 1, 10, 25]\n",
      "39 cents requires 6 coins: [1, 1, 1, 1, 10, 25]\n",
      "40 cents requires 3 coins: [5, 10, 25]\n",
      "41 cents requires 4 coins: [1, 5, 10, 25]\n",
      "42 cents requires 5 coins: [1, 1, 5, 10, 25]\n",
      "43 cents requires 6 coins: [1, 1, 1, 5, 10, 25]\n",
      "44 cents requires 7 coins: [1, 1, 1, 1, 5, 10, 25]\n",
      "45 cents requires 3 coins: [10, 10, 25]\n",
      "46 cents requires 4 coins: [1, 10, 10, 25]\n",
      "47 cents requires 5 coins: [1, 1, 10, 10, 25]\n",
      "48 cents requires 6 coins: [1, 1, 1, 10, 10, 25]\n",
      "49 cents requires 7 coins: [1, 1, 1, 1, 10, 10, 25]\n",
      "50 cents requires 2 coins: [25, 25]\n",
      "51 cents requires 3 coins: [1, 25, 25]\n",
      "52 cents requires 4 coins: [1, 1, 25, 25]\n",
      "53 cents requires 5 coins: [1, 1, 1, 25, 25]\n",
      "54 cents requires 6 coins: [1, 1, 1, 1, 25, 25]\n",
      "55 cents requires 3 coins: [5, 25, 25]\n",
      "56 cents requires 4 coins: [1, 5, 25, 25]\n",
      "57 cents requires 5 coins: [1, 1, 5, 25, 25]\n",
      "58 cents requires 6 coins: [1, 1, 1, 5, 25, 25]\n",
      "59 cents requires 7 coins: [1, 1, 1, 1, 5, 25, 25]\n",
      "60 cents requires 3 coins: [10, 25, 25]\n",
      "61 cents requires 4 coins: [1, 10, 25, 25]\n",
      "62 cents requires 5 coins: [1, 1, 10, 25, 25]\n",
      "63 cents requires 6 coins: [1, 1, 1, 10, 25, 25]\n",
      "64 cents requires 7 coins: [1, 1, 1, 1, 10, 25, 25]\n",
      "65 cents requires 4 coins: [5, 10, 25, 25]\n",
      "66 cents requires 5 coins: [1, 5, 10, 25, 25]\n",
      "67 cents requires 6 coins: [1, 1, 5, 10, 25, 25]\n",
      "68 cents requires 7 coins: [1, 1, 1, 5, 10, 25, 25]\n",
      "69 cents requires 8 coins: [1, 1, 1, 1, 5, 10, 25, 25]\n",
      "70 cents requires 4 coins: [10, 10, 25, 25]\n",
      "71 cents requires 5 coins: [1, 10, 10, 25, 25]\n",
      "72 cents requires 6 coins: [1, 1, 10, 10, 25, 25]\n",
      "73 cents requires 7 coins: [1, 1, 1, 10, 10, 25, 25]\n",
      "74 cents requires 8 coins: [1, 1, 1, 1, 10, 10, 25, 25]\n",
      "75 cents requires 3 coins: [25, 25, 25]\n",
      "76 cents requires 4 coins: [1, 25, 25, 25]\n",
      "77 cents requires 5 coins: [1, 1, 25, 25, 25]\n",
      "78 cents requires 6 coins: [1, 1, 1, 25, 25, 25]\n",
      "79 cents requires 7 coins: [1, 1, 1, 1, 25, 25, 25]\n",
      "80 cents requires 4 coins: [5, 25, 25, 25]\n",
      "81 cents requires 5 coins: [1, 5, 25, 25, 25]\n",
      "82 cents requires 6 coins: [1, 1, 5, 25, 25, 25]\n",
      "83 cents requires 7 coins: [1, 1, 1, 5, 25, 25, 25]\n",
      "84 cents requires 8 coins: [1, 1, 1, 1, 5, 25, 25, 25]\n",
      "85 cents requires 4 coins: [10, 25, 25, 25]\n",
      "86 cents requires 5 coins: [1, 10, 25, 25, 25]\n",
      "87 cents requires 6 coins: [1, 1, 10, 25, 25, 25]\n",
      "88 cents requires 7 coins: [1, 1, 1, 10, 25, 25, 25]\n",
      "89 cents requires 8 coins: [1, 1, 1, 1, 10, 25, 25, 25]\n",
      "90 cents requires 5 coins: [5, 10, 25, 25, 25]\n",
      "91 cents requires 6 coins: [1, 5, 10, 25, 25, 25]\n",
      "92 cents requires 7 coins: [1, 1, 5, 10, 25, 25, 25]\n",
      "93 cents requires 8 coins: [1, 1, 1, 5, 10, 25, 25, 25]\n",
      "94 cents requires 9 coins: [1, 1, 1, 1, 5, 10, 25, 25, 25]\n",
      "95 cents requires 5 coins: [10, 10, 25, 25, 25]\n",
      "96 cents requires 6 coins: [1, 10, 10, 25, 25, 25]\n",
      "97 cents requires 7 coins: [1, 1, 10, 10, 25, 25, 25]\n",
      "98 cents requires 8 coins: [1, 1, 1, 10, 10, 25, 25, 25]\n",
      "99 cents requires 9 coins: [1, 1, 1, 1, 10, 10, 25, 25, 25]\n"
     ]
    }
   ],
   "source": [
    "coins = [1,5,10,25]\n",
    "d = {} # stores tuples of the form (# of coins, [coin list])\n",
    "\n",
    "# finds the minimum # of coins needed to\n",
    "# make change for some number of cents\n",
    "def m(cents):\n",
    "    if cents in d.keys():\n",
    "        return d[cents]\n",
    "    elif cents > 0:\n",
    "        choices = [(m(cents - x)[0] + 1, m(cents - x)[1] + [x]) for x in coins if cents >= x]\n",
    "\n",
    "        # given a list of tuples, python's min function\n",
    "        # uses the first element of each tuple for comparison\n",
    "        d[cents] = min(choices)\n",
    "        return d[cents]\n",
    "    else:\n",
    "        d[0] = (0, [])\n",
    "        return d[0]\n",
    "\n",
    "for x in range(1, 100):\n",
    "    val = m(x)\n",
    "    print x, \"cents requires\", val[0], \"coins:\", val[1]"
   ]
  },
  {
   "cell_type": "markdown",
   "metadata": {},
   "source": [
    "### You're about to get on a plane to Seattle. You want to know if you should bring an umbrella. You call 3 random friends of yours who live there and ask each independently if it's raining. Each of your friends has a 2/3 chance of telling you the truth and a 1/3 chance of messing with you by lying. All 3 friends tell you that \"Yes\" it is raining. What is the probability that it's actually raining in Seattle?"
   ]
  },
  {
   "cell_type": "code",
   "execution_count": null,
   "metadata": {
    "collapsed": true
   },
   "outputs": [],
   "source": []
  },
  {
   "cell_type": "code",
   "execution_count": null,
   "metadata": {
    "collapsed": true
   },
   "outputs": [],
   "source": [
    "class amoeba(object):\n",
    "    def __init__(self, re):\n",
    "    \n",
    "    def reproduce(self):\n",
    "        "
   ]
  },
  {
   "cell_type": "code",
   "execution_count": 63,
   "metadata": {
    "collapsed": false
   },
   "outputs": [],
   "source": [
    "## practising recursion\n",
    "def fib(n):\n",
    "    if n in [1,2]:\n",
    "        return 1\n",
    "    return fib(n-1) + fib(n-2)"
   ]
  },
  {
   "cell_type": "code",
   "execution_count": 42,
   "metadata": {
    "collapsed": false
   },
   "outputs": [],
   "source": [
    "coins = [1, 5, 10, 25, 100]"
   ]
  },
  {
   "cell_type": "code",
   "execution_count": 43,
   "metadata": {
    "collapsed": false
   },
   "outputs": [
    {
     "data": {
      "text/plain": [
       "100"
      ]
     },
     "execution_count": 43,
     "metadata": {},
     "output_type": "execute_result"
    }
   ],
   "source": [
    "coins.pop()"
   ]
  },
  {
   "cell_type": "code",
   "execution_count": null,
   "metadata": {
    "collapsed": true
   },
   "outputs": [],
   "source": []
  }
 ],
 "metadata": {
  "kernelspec": {
   "display_name": "Python 2",
   "language": "python",
   "name": "python2"
  },
  "language_info": {
   "codemirror_mode": {
    "name": "ipython",
    "version": 2
   },
   "file_extension": ".py",
   "mimetype": "text/x-python",
   "name": "python",
   "nbconvert_exporter": "python",
   "pygments_lexer": "ipython2",
   "version": "2.7.12"
  }
 },
 "nbformat": 4,
 "nbformat_minor": 0
}
