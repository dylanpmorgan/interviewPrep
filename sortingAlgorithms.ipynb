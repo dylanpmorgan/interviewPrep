{
 "cells": [
  {
   "cell_type": "markdown",
   "metadata": {},
   "source": [
    "# Sorting Algorithms"
   ]
  },
  {
   "cell_type": "markdown",
   "metadata": {},
   "source": [
    "## 1. Selection sort\n",
    "![Selection sort](http://www.cs.rmit.edu.au/online/blackboard/chapter/05/documents/contribute/chapter/09/images/selection-sort.gif)\n",
    "### Notes:\n",
    "(https://en.wikipedia.org/wiki/Selection_sort)\n",
    "\n",
    "Worst case: O($n^2$)\n",
    "\n",
    "Best case: O($n^2$)\n",
    "\n",
    "Average case: O($n^2$)\n",
    "\n",
    "Almost always outperforms bubble sort\n",
    "\n",
    "Generally worse than insertion"
   ]
  },
  {
   "cell_type": "code",
   "execution_count": 17,
   "metadata": {
    "collapsed": false
   },
   "outputs": [
    {
     "name": "stdout",
     "output_type": "stream",
     "text": [
      "[42, 16, 84, 12, 77, 26, 53]\n",
      "[12, 16, 84, 42, 77, 26, 53]\n",
      "[12, 16, 84, 42, 77, 26, 53]\n",
      "[12, 16, 26, 42, 77, 84, 53]\n",
      "[12, 16, 26, 42, 77, 84, 53]\n",
      "[12, 16, 26, 42, 53, 84, 77]\n",
      "[12, 16, 26, 42, 53, 77, 84]\n"
     ]
    }
   ],
   "source": [
    "dlist = [42,16,84,12,77,26,53]\n",
    "def selectionSort(dlist):\n",
    "    for i in xrange(len(dlist)-1):\n",
    "        print dlist\n",
    "        minIndex = i\n",
    "        minValue = dlist[i]\n",
    "        j = i+1\n",
    "        while j < len(dlist):\n",
    "            if dlist[j] < minValue:\n",
    "                minValue = dlist[j]\n",
    "                minIndex = j\n",
    "            j+=1\n",
    "        dlist[i], dlist[minIndex] = dlist[minIndex], dlist[i]\n",
    "    print dlist\n",
    "\n",
    "selectionSort(dlist)        \n",
    "    "
   ]
  },
  {
   "cell_type": "markdown",
   "metadata": {},
   "source": [
    "## 2. Bubble sort\n",
    "![bubble sort](http://www.w3resource.com/python-exercises/data-structures-and-algorithms/bubble-short.png)\n",
    "### Notes\n",
    "\n",
    "Worst case: O($n^2$)\n",
    "\n",
    "Best case:  O($n$) (already sorted lists)\n",
    "\n",
    "Avg case:  O($n^2$)\n",
    "\n"
   ]
  },
  {
   "cell_type": "code",
   "execution_count": 22,
   "metadata": {
    "collapsed": false
   },
   "outputs": [
    {
     "name": "stdout",
     "output_type": "stream",
     "text": [
      "[5, 1, 4, 2, 8]\n",
      "[1, 4, 2, 5, 8]\n",
      "[1, 2, 4, 5, 8]\n"
     ]
    }
   ],
   "source": [
    "blist = [5,1,4,2,8]\n",
    "def bubbleSort(blist):\n",
    "    j = len(blist)\n",
    "    p = 0\n",
    "    while p < j:\n",
    "        print blist\n",
    "        for i in range(j-1):\n",
    "            if blist[i]>blist[i+1]:\n",
    "                blist[i], blist[i+1] = blist[i+1], blist[i]\n",
    "        j -= 1\n",
    "        p+=1\n",
    "bubbleSort(blist)    "
   ]
  },
  {
   "cell_type": "markdown",
   "metadata": {},
   "source": [
    "## 3. Insertion sort\n",
    "![insertion sort](http://www.cs.rmit.edu.au/online/blackboard/chapter/05/documents/contribute/chapter/09/images/insertion-sort.gif)\n",
    "### Notes\n",
    "\n",
    "https://en.wikipedia.org/wiki/Insertion_sort\n",
    "\n",
    "Worst case: O($n^2$)\n",
    "\n",
    "Best case:  O($n$) (already sorted lists)\n",
    "\n",
    "Avg case:  O($n^2$)"
   ]
  },
  {
   "cell_type": "code",
   "execution_count": 49,
   "metadata": {
    "collapsed": false
   },
   "outputs": [
    {
     "name": "stdout",
     "output_type": "stream",
     "text": [
      "[16, 42, 84, 12, 77, 26, 53]\n",
      "[16, 42, 84, 12, 77, 26, 53]\n",
      "[12, 16, 42, 84, 77, 26, 53]\n",
      "[12, 16, 42, 77, 84, 26, 53]\n",
      "[12, 16, 26, 42, 77, 84, 53]\n",
      "[12, 16, 26, 42, 53, 77, 84]\n"
     ]
    }
   ],
   "source": [
    "ilist = [42,16,84,12,77,26,53]\n",
    "def insertionSort(ilist):\n",
    "    for i in xrange(1,len(ilist)):\n",
    "        current = ilist[i]\n",
    "        j = i - 1\n",
    "        while j >= 0 and ilist[j] > current:\n",
    "            ilist[j+1] = ilist[j]\n",
    "            j -= 1\n",
    "        ilist[j+1] = current\n",
    "        print ilist\n",
    "insertionSort(ilist)                "
   ]
  },
  {
   "cell_type": "markdown",
   "metadata": {},
   "source": [
    "## Divide and conquer algorithms"
   ]
  },
  {
   "cell_type": "markdown",
   "metadata": {},
   "source": [
    "## 4. Merge sort\n",
    "![Merge sort](https://upload.wikimedia.org/wikipedia/commons/thumb/e/e6/Merge_sort_algorithm_diagram.svg/300px-Merge_sort_algorithm_diagram.svg.png)\n",
    "\n",
    "https://en.wikipedia.org/wiki/Merge_sort\n",
    "\n",
    "Similar time complexity as heap sort,  but quicksort usually outperforms merge sort\n",
    "\n",
    "Worst case: O($n \\log(n)$)\n",
    "\n",
    "Best case:  O($n \\log(n)$) \n",
    "\n",
    "Avg case: O($n \\log(n)$)"
   ]
  },
  {
   "cell_type": "code",
   "execution_count": 77,
   "metadata": {
    "collapsed": false
   },
   "outputs": [
    {
     "name": "stdout",
     "output_type": "stream",
     "text": [
      "spliting [27] [43]\n",
      "merging [27, 43]\n",
      "spliting [38] [27, 43]\n",
      "merging [27, 38, 43]\n",
      "spliting [3] [9]\n",
      "merging [3, 9]\n",
      "spliting [82] [10]\n",
      "merging [10, 82]\n",
      "spliting [3, 9] [10, 82]\n",
      "merging [3, 9, 10, 82]\n",
      "spliting [27, 38, 43] [3, 9, 10, 82]\n",
      "merging [3, 9, 10, 27, 38, 43, 82]\n"
     ]
    }
   ],
   "source": [
    "mlist = [38,27,43,3,9,82,10]\n",
    "def mergeSort(mlist):\n",
    "    if len(mlist) > 1:\n",
    "        mid = len(mlist)//2\n",
    "        left = mlist[:mid]\n",
    "        right = mlist[mid:]\n",
    "        \n",
    "        # split 'em up\n",
    "        mergeSort(left)\n",
    "        mergeSort(right)\n",
    "        print 'spliting',left, right\n",
    "        \n",
    "        # join 'em\n",
    "        i = 0\n",
    "        j = 0\n",
    "        k = 0\n",
    "        while i < len(left) and j < len(right):\n",
    "            if left[i] < right[j]:\n",
    "                mlist[k] = left[i]\n",
    "                i+=1\n",
    "            else:\n",
    "                mlist[k] = right[j]\n",
    "                j+=1\n",
    "            k+=1  \n",
    "            \n",
    "        while i < len(left):\n",
    "            mlist[k] = left[i]\n",
    "            i+=1\n",
    "            k+=1 \n",
    "            \n",
    "        while j < len(right):\n",
    "            mlist[k] = right[j]\n",
    "            j+=1\n",
    "            k+=1     \n",
    "        print 'merging',mlist      \n",
    "mergeSort(mlist)    "
   ]
  },
  {
   "cell_type": "markdown",
   "metadata": {},
   "source": [
    "## 5. Quick Sort\n",
    "(http://interactivepython.org/runestone/static/pythonds/SortSearch/TheQuickSort.html?highlight=quicksort)\n",
    "\n",
    "Let the first element be the pivot\n",
    "![Quick sort](http://interactivepython.org/runestone/static/pythonds/_images/firstsplit.png)\n",
    "\n",
    "Partition this mess and put the pivot in its place\n",
    "![Quick sort](http://interactivepython.org/runestone/static/pythonds/_images/partitionA.png)\n",
    "\n",
    "Now split it at split point \n",
    "![Quick sort](http://interactivepython.org/runestone/static/pythonds/_images/partitionB.png)\n",
    "\n",
    "Worst case: O($n^2$) (happens with unfortunate selection of pivot when it splits list to size 0 and n-1)\n",
    "\n",
    "Best case:  O($n \\log(n)$) \n",
    "\n",
    "Avg case: O($n \\log(n)$)"
   ]
  },
  {
   "cell_type": "code",
   "execution_count": 119,
   "metadata": {
    "collapsed": false
   },
   "outputs": [
    {
     "name": "stdout",
     "output_type": "stream",
     "text": [
      "[54, 26, 93, 17, 77, 31, 44, 55, 20]\n",
      "[31, 26, 20, 17, 44, 54, 77, 55, 93]\n",
      "[17, 26, 20, 31, 44, 54, 77, 55, 93]\n",
      "[17, 26, 20, 31, 44, 54, 77, 55, 93]\n",
      "[17, 26, 20, 31, 44, 54, 77, 55, 93]\n",
      "[17, 20, 26, 31, 44, 54, 77, 55, 93]\n",
      "[17, 20, 26, 31, 44, 54, 77, 55, 93]\n",
      "[17, 20, 26, 31, 44, 54, 77, 55, 93]\n",
      "[17, 20, 26, 31, 44, 54, 77, 55, 93]\n",
      "[17, 20, 26, 31, 44, 54, 55, 77, 93]\n",
      "[17, 20, 26, 31, 44, 54, 55, 77, 93]\n"
     ]
    }
   ],
   "source": [
    "qlist = [54,26,93,17,77,31,44,55,20]\n",
    "def quickSort(qlist, first = 0, last = len(qlist)-1):\n",
    "    print qlist\n",
    "    if first < last:\n",
    "        splitpoint =  partition(qlist, first, last)\n",
    "        quickSort(qlist, first, splitpoint-1)\n",
    "        quickSort(qlist, splitpoint+1, last)\n",
    "        \n",
    "def partition(qlist, first, last):\n",
    "    pivot = qlist[first]\n",
    "    left = first + 1\n",
    "    right = last\n",
    "    \n",
    "    while True: \n",
    "        while left <= right and qlist[left] <= pivot:\n",
    "            left +=1\n",
    "    \n",
    "        while right>= left and qlist[right] >= pivot:\n",
    "            right -= 1\n",
    "            \n",
    "        if right < left:\n",
    "            qlist[first], qlist[right] = qlist[right], qlist[first]\n",
    "            return right\n",
    "        else:\n",
    "            qlist[left], qlist[right] = qlist[right], qlist[left]\n",
    "        \n",
    "quickSort(qlist)        "
   ]
  },
  {
   "cell_type": "markdown",
   "metadata": {},
   "source": [
    "One of the most efficient sorting algorithms. But performs horribly on an already sorted list."
   ]
  },
  {
   "cell_type": "markdown",
   "metadata": {},
   "source": [
    "## 6. Heap Sort\n",
    "\n",
    "\n",
    "\n",
    "\n",
    "\n",
    "![heap sort](https://upload.wikimedia.org/wikipedia/commons/4/4d/Heapsort-example.gif)\n",
    "\n",
    "A heap is a binary tree where\n",
    "\n",
    "1. Tree is completely balanced (so you can represent it as a list)\n",
    "\n",
    "2. Each node is greater than its children.\n",
    "\n",
    "3. For a parent at position p, left child will be at 2p+1, right at 2p+2\n",
    "\n"
   ]
  },
  {
   "cell_type": "code",
   "execution_count": 117,
   "metadata": {
    "collapsed": false
   },
   "outputs": [
    {
     "name": "stdout",
     "output_type": "stream",
     "text": [
      "swaps [54, 26, 93, 17, 77, 31, 44, 55, 20]\n",
      "swaps [54, 26, 93, 55, 77, 31, 44, 17, 20]\n",
      "swaps [54, 26, 93, 55, 77, 31, 44, 17, 20]\n",
      "swaps [54, 77, 93, 55, 26, 31, 44, 17, 20]\n",
      "sorting [20, 77, 54, 55, 26, 31, 44, 17, 93]\n",
      "sorting [17, 55, 54, 20, 26, 31, 44, 77, 93]\n",
      "sorting [44, 26, 54, 20, 17, 31, 55, 77, 93]\n",
      "sorting [31, 26, 44, 20, 17, 54, 55, 77, 93]\n",
      "sorting [17, 26, 31, 20, 44, 54, 55, 77, 93]\n",
      "sorting [20, 26, 17, 31, 44, 54, 55, 77, 93]\n",
      "sorting [17, 20, 26, 31, 44, 54, 55, 77, 93]\n",
      "sorting [17, 20, 26, 31, 44, 54, 55, 77, 93]\n"
     ]
    },
    {
     "data": {
      "text/plain": [
       "[17, 20, 26, 31, 44, 54, 55, 77, 93]"
      ]
     },
     "execution_count": 117,
     "metadata": {},
     "output_type": "execute_result"
    }
   ],
   "source": [
    "hlist = [54,26,93,17,77,31,44,55,20]\n",
    "def heapSort(hlist):\n",
    "    n = len(hlist)\n",
    "    root = n//2 - 1\n",
    "    \n",
    "    for i in range(root, -1, -1):\n",
    "        print 'swaps', hlist\n",
    "        siftDown(hlist, i, n)\n",
    "        \n",
    "    for i in range(n-1, 0, -1):\n",
    "        hlist[i], hlist[0] = hlist[0], hlist[i]\n",
    "        print 'sorting', hlist\n",
    "        siftDown(hlist, 0, i)\n",
    "    \n",
    "\n",
    "def siftDown(hlist, first, last):\n",
    "    \"\"\"\n",
    "    Checks if parent is larger than its children, else swap 'em out\n",
    "    \"\"\"\n",
    "    left = 2*first + 1\n",
    "    right = 2*first + 2\n",
    "    largest = first\n",
    "    \n",
    "    if left < last and hlist[first] < hlist[left]:\n",
    "        largest = left\n",
    "        \n",
    "    if right < last and hlist[largest] < hlist[right]:\n",
    "        largest = right\n",
    "        \n",
    "    if largest != first:\n",
    "        hlist[first], hlist[largest] = hlist[largest], hlist[first]\n",
    "        siftDown(hlist, largest, last)\n",
    "        \n",
    "    \n",
    "heapSort(hlist)       \n",
    "hlist   "
   ]
  },
  {
   "cell_type": "markdown",
   "metadata": {},
   "source": [
    "## 7. Tim Sort\n",
    "\n",
    "Derived from merge and insertion sort\n",
    "\n",
    "The algorithm finds subsequences of the data that are already ordered, and uses that knowledge to sort the remainder more efficiently. \n",
    "\n",
    "https://corte.si/posts/code/timsort/index.html\n",
    "\n",
    "http://bugs.python.org/file4451/timsort.txt (From the creator)"
   ]
  },
  {
   "cell_type": "markdown",
   "metadata": {
    "collapsed": true
   },
   "source": [
    "## Resources\n",
    "\n",
    "1. https://corte.si/posts/code/visualisingsorting/index.html"
   ]
  }
 ],
 "metadata": {
  "kernelspec": {
   "display_name": "Python 2",
   "language": "python",
   "name": "python2"
  },
  "language_info": {
   "codemirror_mode": {
    "name": "ipython",
    "version": 2
   },
   "file_extension": ".py",
   "mimetype": "text/x-python",
   "name": "python",
   "nbconvert_exporter": "python",
   "pygments_lexer": "ipython2",
   "version": "2.7.12"
  }
 },
 "nbformat": 4,
 "nbformat_minor": 0
}
